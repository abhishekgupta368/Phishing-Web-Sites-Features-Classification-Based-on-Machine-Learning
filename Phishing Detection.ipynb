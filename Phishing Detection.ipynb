{
 "cells": [
  {
   "cell_type": "code",
   "execution_count": 1,
   "metadata": {
    "scrolled": true
   },
   "outputs": [
    {
     "name": "stderr",
     "output_type": "stream",
     "text": [
      "C:\\Users\\Lenovo\\Anaconda3\\lib\\site-packages\\sklearn\\externals\\joblib\\__init__.py:15: FutureWarning: sklearn.externals.joblib is deprecated in 0.21 and will be removed in 0.23. Please import this functionality directly from joblib, which can be installed with: pip install joblib. If this warning is raised when loading pickled models, you may need to re-serialize those models with scikit-learn 0.21+.\n",
      "  warnings.warn(msg, category=FutureWarning)\n",
      "Using TensorFlow backend.\n"
     ]
    }
   ],
   "source": [
    "import pandas as pd\n",
    "import numpy as np\n",
    "import matplotlib.pyplot as plt\n",
    "from sklearn.externals import joblib \n",
    "from sklearn.metrics import accuracy_score\n",
    "from sklearn.metrics import classification_report\n",
    "from sklearn.metrics import confusion_matrix\n",
    "from sklearn.feature_extraction.text import TfidfVectorizer\n",
    "from sklearn.feature_extraction.text import CountVectorizer\n",
    "from sklearn.model_selection import train_test_split\n",
    "from sklearn.naive_bayes import GaussianNB\n",
    "from imblearn.over_sampling import SMOTE\n",
    "import re\n",
    "import math\n",
    "import pickle\n",
    "from collections import Counter\n",
    "import seaborn as sns\n",
    "from sklearn.model_selection import learning_curve"
   ]
  },
  {
   "cell_type": "code",
   "execution_count": 2,
   "metadata": {},
   "outputs": [],
   "source": [
    "class PhishingModel():\n",
    "    def __init__(self,file_name):\n",
    "        self.url_data = pd.read_csv(file_name,error_bad_lines=False).sample(frac=1).reset_index(drop=True)\n",
    "        self.bad_data = self.url_data[self.url_data['label']=='bad']\n",
    "        self.good_data = self.url_data[self.url_data['label']=='good']\n",
    "        self.preprocess_data = []\n",
    "        self.labels=[]\n",
    "        self.tfidf = TfidfVectorizer(tokenizer=self.pre_process_url)\n",
    "        self.x_train = None\n",
    "        self.y_train = None\n",
    "        self.x_test = None\n",
    "        self.y_test = None\n",
    "        self.count=None\n",
    "        self.model = GaussianNB()\n",
    "        self.sm = SMOTE(random_state=2)\n",
    "        \n",
    "    def printData(self):\n",
    "        print(self.url_data[:20])\n",
    "        \n",
    "    def create_graph(self,labels,counts,title):\n",
    "        plt.title(title)\n",
    "        plt.bar(labels,counts)\n",
    "        plt.xlabel(\"Labels\")\n",
    "        plt.ylabel(\"Counts\")\n",
    "        plt.plot()\n",
    "        \n",
    "    def model_bar_graph(self,urls):\n",
    "        labels = np.unique(self.url_data['label'].values)\n",
    "        counts = []\n",
    "        for x in labels:\n",
    "            counts.append(len(self.url_data[self.url_data['label']==x].values))\n",
    "        total = sum(counts)\n",
    "        for i in range(len(counts)):\n",
    "            counts[i] = round(((counts[i]/total)*100),2)\n",
    "        self.create_graph(labels,counts,\"URL count\")\n",
    "    \n",
    "    \n",
    "        \n",
    "    def draw_bar_graph(self,url,title):\n",
    "        labels = []\n",
    "        total=0\n",
    "        counts=[]\n",
    "        for x in url:\n",
    "            total+=url[x]\n",
    "            counts.append(url[x])\n",
    "            if(x==1):\n",
    "                labels.append(\"good\")\n",
    "            else:\n",
    "                labels.append(\"bad\")\n",
    "            \n",
    "        for i in range(len(counts)):\n",
    "            counts[i] = round(((counts[i]/total)*100),2)\n",
    "        self.create_graph(labels,counts,title)\n",
    "        \n",
    "    def check_balance(self):\n",
    "        #calculate Shannon entropy\n",
    "        #refer to url: https://stats.stackexchange.com/questions/239973/a-general-measure-of-data-set-imbalance\n",
    "        entropy = 0.0\n",
    "        labels = np.unique(self.url_data['label'].values)\n",
    "        counts = []\n",
    "        for x in labels:\n",
    "            counts.append(len(self.url_data[self.url_data['label']==x].values))\n",
    "        entropy = 0.0\n",
    "        total = sum(counts)\n",
    "        for x in counts:\n",
    "            entropy += (-(x/total)*np.log(x/total))\n",
    "        shannon_en = entropy/np.log(len(counts))\n",
    "        shannon_en = round(shannon_en,3)\n",
    "        if(shannon_en > 0.8):\n",
    "            print(\"Data is Balanced\")\n",
    "            print(\"Calculated Entrophy: \",shannon_en)\n",
    "        else:\n",
    "            print(\"Data is Imbalanced\")\n",
    "            print(\"Calculated Entrophy: \",shannon_en)\n",
    "            \n",
    "    def pre_process_url(self,url):\n",
    "        data = str(url.encode('utf-8')).split('/')\n",
    "        total_token = []\n",
    "        for x in data:\n",
    "            token = str(x).split('-')\n",
    "            token_by_dot=[]\n",
    "            for y in token:\n",
    "                temp_token = str(y).split('.')\n",
    "                token_by_dot+=temp_token\n",
    "            total_token =total_token+token+ token_by_dot\n",
    "        total_token = list(set(total_token))\n",
    "        \n",
    "        if 'com' in total_token:\n",
    "            total_token.remove('com')\n",
    "        for i in range(len(total_token)):\n",
    "            total_token[i] = re.sub(r\"[b']+\",'',total_token[i])\n",
    "        if '' in total_token:\n",
    "            total_token.remove('')\n",
    "        return total_token\n",
    "    \n",
    "    def save_tfidf(self):\n",
    "        pickle.dump(self.tfidf, open(\"tfidf.pickle\", \"wb\"))\n",
    "        \n",
    "    def process_data(self,sample=20,train_all=0):\n",
    "        c=0\n",
    "        url = self.url_data['url']\n",
    "        label = self.url_data['label']\n",
    "        \n",
    "        if(train_all==1):\n",
    "            #for safe side, i am taking 5% of the total data\n",
    "            #RAM requirment may increase more than 25 GB(tested on Google Colab)\n",
    "            sample = int(0.05*len(self.url_data))\n",
    "        \n",
    "        check_data=[]\n",
    "        for i in range(sample):\n",
    "            check_data.append(url[i])\n",
    "        self.preprocess_data = self.tfidf.fit_transform(check_data)\n",
    "        for y in label:\n",
    "            if(y=='good'):\n",
    "                self.labels.append(1)\n",
    "            else:\n",
    "                self.labels.append(0)\n",
    "            c+=1\n",
    "            if(c==sample):\n",
    "                break\n",
    "        self.x_train, self.x_test, self.y_train, self.y_test = train_test_split(self.preprocess_data,self.labels,test_size=0.2,random_state=42)\n",
    "    \n",
    "    #apply smote to handle imblance data\n",
    "    def handle_imbalance_data(self):\n",
    "        #before smote\n",
    "        before_smote = Counter(self.y_train)\n",
    "#         print(\"Before SMOTE\")\n",
    "#         print(before_smote)\n",
    "        \n",
    "        self.x_train,self.y_train = self.sm.fit_sample(self.x_train,self.y_train)\n",
    "        after_smote = Counter(self.y_train)\n",
    "#         print(\"After SMOTE\")\n",
    "#         print(after_smote)\n",
    "        \n",
    "        return before_smote,after_smote\n",
    "        \n",
    "    def train_model(self):\n",
    "        self.model.fit(self.x_train.toarray(),self.y_train)\n",
    "        joblib.dump(self.model,\"train_model.pkl\")\n",
    "    \n",
    "    def test_accuracy(self):\n",
    "        self.model= joblib.load('train_model.pkl')\n",
    "        predicted_label = self.model.predict(self.x_test.toarray())\n",
    "        acc = accuracy_score(self.y_test,predicted_label)*100\n",
    "        print(str(acc)+'%')\n",
    "        \n",
    "    def print_confusion_matrix(self):\n",
    "        self.model= joblib.load('train_model.pkl')\n",
    "        predicted_label = self.model.predict(self.x_test.toarray())\n",
    "        data = confusion_matrix(self.y_test,predicted_label)\n",
    "        df_cm = pd.DataFrame(data, columns=np.unique(self.y_test), index = np.unique(self.y_test))\n",
    "        df_cm.index.name = 'Actual'\n",
    "        df_cm.columns.name = 'Predicted'\n",
    "        plt.figure(figsize = (10,7))\n",
    "        sns.set(font_scale=1.4)#for label size\n",
    "        sns.heatmap(df_cm, cmap=\"Blues\", annot=True,annot_kws={\"size\": 16})\n",
    "    \n",
    "    def print_classification_report(self):\n",
    "        self.model= joblib.load('train_model.pkl')\n",
    "        predicted_label = self.model.predict(self.x_test.toarray())\n",
    "        print(classification_report(self.y_test,predicted_label))\n",
    "        \n",
    "    def predict_type(self,url):\n",
    "        self.model= joblib.load('train_model.pkl')\n",
    "        self.tfidf = pickle.load(open(\"tfidf.pickle\", \"rb\"))\n",
    "        prep = self.tfidf.transform([url])\n",
    "        flag = self.model.predict(prep.toarray())\n",
    "        if(flag[0]==1):\n",
    "            return \"Url is Good\"\n",
    "        else:\n",
    "            return \"Url is Bad\"\n",
    "            \n",
    "    def check_security(self):\n",
    "        urls = self.bad_data['url'].values\n",
    "        tech_gaint = {'facebook':0,'twitter':0,'ebay':0,'amazon':0,'linkedin':0,'quora':0,'youtube':0}\n",
    "        \n",
    "        for x in tech_gaint:\n",
    "            wrd = r'\\b'+str(x)+'\\\\b'\n",
    "            for url in urls:\n",
    "                clean_url = str(url.encode('utf-8'))\n",
    "                if(len(re.findall(wrd, clean_url))>0):\n",
    "                    tech_gaint[x]+=1\n",
    "        company = []\n",
    "        counts = []\n",
    "        for x in tech_gaint:\n",
    "            company.append(x)\n",
    "            counts.append(tech_gaint[x])\n",
    "        mx=0\n",
    "        pos=0\n",
    "        for i in range(len(counts)):\n",
    "            if(mx<counts[i]):\n",
    "                mx = counts[i]\n",
    "                pos = i\n",
    "        print(company[pos] + \" have highest number of Phishing Rate with count of \"+str(mx))\n",
    "        print(company[pos] + \" have to improve it security\")\n",
    "        self.create_graph(company,counts,\"Phishing Url Count\")\n",
    "        "
   ]
  },
  {
   "cell_type": "code",
   "execution_count": 84,
   "metadata": {},
   "outputs": [],
   "source": [
    "if __name__ == \"__main__\":\n",
    "    eda = PhishingModel(\"data.csv\")\n",
    "    #here, we will put number of random sample and put one flag value, which will test that\n",
    "    eda.process_data(sample=1000,train_all=0)"
   ]
  },
  {
   "cell_type": "code",
   "execution_count": 85,
   "metadata": {
    "scrolled": false
   },
   "outputs": [
    {
     "name": "stdout",
     "output_type": "stream",
     "text": [
      "Data is Imbalanced\n",
      "Calculated Entrophy:  0.68\n"
     ]
    }
   ],
   "source": [
    "#it has two parameter\n",
    "#sample\n",
    "#train_all, It will help to decide, train whole dataset or train with it decided number of sample\n",
    "eda.check_balance()"
   ]
  },
  {
   "cell_type": "code",
   "execution_count": 86,
   "metadata": {},
   "outputs": [],
   "source": [
    "bf_smt,af_smt = eda.handle_imbalance_data()"
   ]
  },
  {
   "cell_type": "code",
   "execution_count": 87,
   "metadata": {},
   "outputs": [
    {
     "data": {
      "image/png": "[encoded data removed]",
      "text/plain": [
       "<Figure size 432x288 with 1 Axes>"
      ]
     },
     "metadata": {},
     "output_type": "display_data"
    }
   ],
   "source": [
    "eda.draw_bar_graph(bf_smt,\"Before SMOTE\")"
   ]
  },
  {
   "cell_type": "code",
   "execution_count": 88,
   "metadata": {},
   "outputs": [
    {
     "data": {
      "image/png": "[encoded data removed]",
      "text/plain": [
       "<Figure size 432x288 with 1 Axes>"
      ]
     },
     "metadata": {},
     "output_type": "display_data"
    }
   ],
   "source": [
    "eda.draw_bar_graph(af_smt,\"After SMOTE\")"
   ]
  },
  {
   "cell_type": "code",
   "execution_count": 89,
   "metadata": {},
   "outputs": [],
   "source": [
    "eda.train_model()\n",
    "eda.save_tfidf()"
   ]
  },
  {
   "cell_type": "code",
   "execution_count": 94,
   "metadata": {},
   "outputs": [
    {
     "name": "stdout",
     "output_type": "stream",
     "text": [
      "URL:  twitter.com\n",
      "Prediction:  Url is Good\n",
      "URL:  amazon.com\n",
      "Prediction:  Url is Good\n",
      "URL:  zyz.com\n",
      "Prediction:  Url is Bad\n",
      "URL:  plaq.com\n",
      "Prediction:  Url is Bad\n",
      "URL:  youtube.com\n",
      "Prediction:  Url is Good\n",
      "URL:  netflix.com\n",
      "Prediction:  Url is Bad\n"
     ]
    }
   ],
   "source": [
    "url_list = [\"twitter.com\",\"amazon.com\",\"zyz.com\",\"plaq.com\",\"youtube.com\",\"netflix.com\"]\n",
    "for x in url_list:\n",
    "    print(\"URL: \",x)\n",
    "    print(\"Prediction: \",eda.predict_type(x))"
   ]
  }
 ],
 "metadata": {
  "kernelspec": {
   "display_name": "Python 3",
   "language": "python",
   "name": "python3"
  },
  "language_info": {
   "codemirror_mode": {
    "name": "ipython",
    "version": 3
   },
   "file_extension": ".py",
   "mimetype": "text/x-python",
   "name": "python",
   "nbconvert_exporter": "python",
   "pygments_lexer": "ipython3",
   "version": "3.7.3"
  }
 },
 "nbformat": 4,
 "nbformat_minor": 2
}
